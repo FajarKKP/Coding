{
  "nbformat": 4,
  "nbformat_minor": 0,
  "metadata": {
    "colab": {
      "name": "Dnn_Time_series_Synth_data.ipynb",
      "provenance": [],
      "authorship_tag": "ABX9TyNlIK8VhJbiany88jHkTEqu",
      "include_colab_link": true
    },
    "kernelspec": {
      "name": "python3",
      "display_name": "Python 3"
    },
    "language_info": {
      "name": "python"
    }
  },
  "cells": [
    {
      "cell_type": "markdown",
      "metadata": {
        "id": "view-in-github",
        "colab_type": "text"
      },
      "source": [
        "<a href=\"https://colab.research.google.com/github/FajarKKP/Coding/blob/main/Dnn_Time_series_Synth_data.ipynb\" target=\"_parent\"><img src=\"https://colab.research.google.com/assets/colab-badge.svg\" alt=\"Open In Colab\"/></a>"
      ]
    },
    {
      "cell_type": "code",
      "metadata": {
        "id": "VboVEScm_OV1"
      },
      "source": [
        "import tensorflow as tf\n",
        "import numpy as np\n",
        "import matplotlib.pyplot as plt\n"
      ],
      "execution_count": 1,
      "outputs": []
    },
    {
      "cell_type": "code",
      "metadata": {
        "id": "JQZeeZx73Dk6"
      },
      "source": [
        "def plot_series(time, series, format='-', start=0, end=None):\n",
        "  plt.plot(time[start:end], series[start:end], format)\n",
        "  plt.xlabel(\"Time\")\n",
        "  plt.ylabel(\"Value\")\n",
        "  plt.grid(False)\n",
        "\n",
        "def trend(time, slope=0):\n",
        "  return slope + time\n",
        "\n",
        "def seasonal_pattern(season_time):\n",
        "  return np.where(season_time<0.1, np.cos(season_time*6*np.pi), 2/np.exp(9*season_time))\n",
        "\n",
        "def seasonality(time, period, amplitude=1, phase=0):\n",
        "  season_time = ((time+phase)%period) /period \n",
        "  return amplitude * seasonal_pattern(season_time)\n",
        "\n",
        "def noise(time, noise_level=1, seed=None):\n",
        "  rnd = np.random.RandomState(seed)\n",
        "  return rnd.rand(len(time)) * noise_level   \n",
        "\n",
        "time = np.arange(10* 365+1, dtype=\"float32\")\n",
        "baseline = 10\n",
        "series = trend(time,0.1)\n",
        "amplitude = 40\n",
        "slope = 0.005\n",
        "noise_level = 3"
      ],
      "execution_count": 9,
      "outputs": []
    },
    {
      "cell_type": "code",
      "metadata": {
        "colab": {
          "base_uri": "https://localhost:8080/",
          "height": 279
        },
        "id": "71jODC7puLg_",
        "outputId": "87343300-5d3b-44aa-d867-bc6a82ca172f"
      },
      "source": [
        "# Make the series\n",
        "series = baseline + trend(time,slope) + seasonality(time, period=365, amplitude=amplitude)\n",
        "series += noise(time, noise_level, seed=51)\n",
        "\n",
        "split_time = 3000\n",
        "time_train = time[:split_time]\n",
        "x_train = series[:split_time]\n",
        "time_valid = time[split_time:]\n",
        "x_valid = series[split_time:]\n",
        "\n",
        "window_size = 20\n",
        "batch_size = 32\n",
        "shuffle_buffer_size = 1000\n",
        "\n",
        "plot_series(time, series)"
      ],
      "execution_count": 10,
      "outputs": [
        {
          "output_type": "display_data",
          "data": {
            "image/png": "[encoded data removed]",
            "text/plain": [
              "<Figure size 432x288 with 1 Axes>"
            ]
          },
          "metadata": {
            "tags": [],
            "needs_background": "light"
          }
        }
      ]
    },
    {
      "cell_type": "code",
      "metadata": {
        "id": "YiuIaVVcwUaW"
      },
      "source": [
        ""
      ],
      "execution_count": null,
      "outputs": []
    }
  ]
}