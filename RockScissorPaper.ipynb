{
  "nbformat": 4,
  "nbformat_minor": 0,
  "metadata": {
    "colab": {
      "name": "RockScissorPaper.ipynb",
      "provenance": [],
      "collapsed_sections": [],
      "authorship_tag": "ABX9TyOLMoC+LHrNOP8ZL4F7BBF/",
      "include_colab_link": true
    },
    "kernelspec": {
      "name": "python3",
      "display_name": "Python 3"
    }
  },
  "cells": [
    {
      "cell_type": "markdown",
      "metadata": {
        "id": "view-in-github",
        "colab_type": "text"
      },
      "source": [
        "<a href=\"https://colab.research.google.com/github/FajarKKP/CodingPractice/blob/main/RockScissorPaper.ipynb\" target=\"_parent\"><img src=\"https://colab.research.google.com/assets/colab-badge.svg\" alt=\"Open In Colab\"/></a>"
      ]
    },
    {
      "cell_type": "code",
      "metadata": {
        "colab": {
          "base_uri": "https://localhost:8080/"
        },
        "id": "4Ld6rXfo2BCI",
        "outputId": "e555709c-f64d-4198-a7a8-c0c250a77ed8"
      },
      "source": [
        "# credits to amazing.python for the source code\n",
        "import random\n",
        "\n",
        "print(\"Press s to stop\")\n",
        "while True:\n",
        "  player = str(input(\"Rock, Paper or Scissor? : \"))\n",
        "  computer = random.choice([\"Rock\",\"Paper\",\"Scissor\"])\n",
        "  \n",
        "  if player == \"s\" :\n",
        "    print(\"Have a nice day\")\n",
        "    break\n",
        "  elif player == computer:\n",
        "    print(\"draw\")\n",
        "  elif player == \"Rock\":\n",
        "    if computer == \"Scissor\":\n",
        "      print(\"You win\")\n",
        "    else:\n",
        "      print(\"You lose\")\n",
        "  elif player == \"Paper\":\n",
        "    if computer == \"Rock\":\n",
        "      print(\"You win\")\n",
        "    else:\n",
        "      print(\"You lose\")\n",
        "  elif player == \"Scissor\":\n",
        "    if computer == \"Paper\":\n",
        "      print(\"You win\")\n",
        "    else:\n",
        "      print(\"You lose\")\n",
        "  else:\n",
        "    print(\"Wrong spelling, try again the program\")\n",
        "    break\n",
        "  print(\"computer choosen \" + computer)\n"
      ],
      "execution_count": null,
      "outputs": [
        {
          "output_type": "stream",
          "text": [
            "Press s to stop\n",
            "Rock, Paper or Scissor? : d\n",
            "Wrong spelling, try again the program\n"
          ],
          "name": "stdout"
        }
      ]
    }
  ]
}