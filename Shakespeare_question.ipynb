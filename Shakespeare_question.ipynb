{
  "nbformat": 4,
  "nbformat_minor": 0,
  "metadata": {
    "colab": {
      "name": "Shakespeare_question.ipynb",
      "provenance": [],
      "authorship_tag": "ABX9TyNxDSVoOnmDvK3n3utN9Lwq",
      "include_colab_link": true
    },
    "kernelspec": {
      "name": "python3",
      "display_name": "Python 3"
    },
    "language_info": {
      "name": "python"
    },
    "accelerator": "GPU"
  },
  "cells": [
    {
      "cell_type": "markdown",
      "metadata": {
        "id": "view-in-github",
        "colab_type": "text"
      },
      "source": [
        "<a href=\"https://colab.research.google.com/github/FajarKKP/Coding/blob/main/Shakespeare_question.ipynb\" target=\"_parent\"><img src=\"https://colab.research.google.com/assets/colab-badge.svg\" alt=\"Open In Colab\"/></a>"
      ]
    },
    {
      "cell_type": "code",
      "metadata": {
        "id": "T2okGBiOnO4x"
      },
      "source": [
        "from tensorflow.keras.preprocessing.sequence import pad_sequences\n",
        "from tensorflow.keras.layers import Embedding, LSTM, Dense, Dropout, Bidirectional\n",
        "from tensorflow.keras.preprocessing.text import Tokenizer\n",
        "from tensorflow.keras.models import Sequential\n",
        "from tensorflow.keras.optimizers import Adam\n",
        "from tensorflow.keras import regularizers\n",
        "import tensorflow.keras.utils as ku\n",
        "import tensorflow as tf\n",
        "import numpy as np"
      ],
      "execution_count": null,
      "outputs": []
    },
    {
      "cell_type": "code",
      "metadata": {
        "colab": {
          "base_uri": "https://localhost:8080/"
        },
        "id": "ObCKyahKb_F_",
        "outputId": "a884a46f-8f0f-4b78-9056-c4b231129cb0"
      },
      "source": [
        "tokenizer = Tokenizer()\n",
        "!wget --no-check-certificate \\\n",
        "    https://storage.googleapis.com/laurencemoroney-blog.appspot.com/sonnets.txt \\\n",
        "    -O /tmp/sonnets.txt\n",
        "data = open('/tmp/sonnets.txt').read()\n",
        "\n",
        "corpus = data.lower().split(\"\\n\")\n",
        "\n",
        "\n",
        "tokenizer.fit_on_texts(corpus)\n",
        "total_words = len(tokenizer.word_index) + 1\n",
        "\n",
        "# create input sequences using list of tokens\n",
        "input_sequences = []\n",
        "for line in corpus:\n",
        "\ttoken_list = tokenizer.texts_to_sequences([line])[0]\n",
        "\tfor i in range(1, len(token_list)):\n",
        "\t\tn_gram_sequence = token_list[:i+1]\n",
        "\t\tinput_sequences.append(n_gram_sequence)\n",
        "\n",
        "\n",
        "# pad sequences \n",
        "max_sequence_len = max([len(x) for x in input_sequences])\n",
        "input_sequences = np.array(pad_sequences(input_sequences, maxlen=max_sequence_len, padding='pre'))\n",
        "\n",
        "# create predictors and label\n",
        "predictors, label = input_sequences[:,:-1],input_sequences[:,-1]\n",
        "\n",
        "label = ku.to_categorical(label, num_classes=total_words)"
      ],
      "execution_count": null,
      "outputs": [
        {
          "output_type": "stream",
          "text": [
            "--2021-05-26 07:14:22--  https://storage.googleapis.com/laurencemoroney-blog.appspot.com/sonnets.txt\n",
            "Resolving storage.googleapis.com (storage.googleapis.com)... 142.250.141.128, 74.125.137.128, 2607:f8b0:4023:c06::80, ...\n",
            "Connecting to storage.googleapis.com (storage.googleapis.com)|142.250.141.128|:443... connected.\n",
            "HTTP request sent, awaiting response... 200 OK\n",
            "Length: 93578 (91K) [text/plain]\n",
            "Saving to: ‘/tmp/sonnets.txt’\n",
            "\n",
            "\r/tmp/sonnets.txt      0%[                    ]       0  --.-KB/s               \r/tmp/sonnets.txt    100%[===================>]  91.38K  --.-KB/s    in 0.001s  \n",
            "\n",
            "2021-05-26 07:14:23 (125 MB/s) - ‘/tmp/sonnets.txt’ saved [93578/93578]\n",
            "\n"
          ],
          "name": "stdout"
        }
      ]
    },
    {
      "cell_type": "code",
      "metadata": {
        "colab": {
          "base_uri": "https://localhost:8080/"
        },
        "id": "sl29F_5Md1oP",
        "outputId": "e044dcd4-a3e2-4fb6-fd48-a328a722b260"
      },
      "source": [
        "model = Sequential()\n",
        "model.add(Embedding(total_words, 100, input_length=max_sequence_len-1))\n",
        "model.add(Bidirectional(LSTM(150, return_sequences = True)))\n",
        "model.add(Dropout(0.2))\n",
        "model.add(LSTM(100))\n",
        "model.add(Dense(total_words/2, activation='relu', kernel_regularizer=regularizers.l2(0.01)))\n",
        "model.add(Dense(total_words, activation='softmax'))\n",
        "model.compile(loss='categorical_crossentropy', optimizer='adam', metrics=['accuracy'])\n",
        "print(model.summary())"
      ],
      "execution_count": null,
      "outputs": [
        {
          "output_type": "stream",
          "text": [
            "Model: \"sequential\"\n",
            "_________________________________________________________________\n",
            "Layer (type)                 Output Shape              Param #   \n",
            "=================================================================\n",
            "embedding (Embedding)        (None, 10, 100)           321100    \n",
            "_________________________________________________________________\n",
            "bidirectional (Bidirectional (None, 10, 300)           301200    \n",
            "_________________________________________________________________\n",
            "dropout (Dropout)            (None, 10, 300)           0         \n",
            "_________________________________________________________________\n",
            "lstm_1 (LSTM)                (None, 100)               160400    \n",
            "_________________________________________________________________\n",
            "dense (Dense)                (None, 1605)              162105    \n",
            "_________________________________________________________________\n",
            "dense_1 (Dense)              (None, 3211)              5156866   \n",
            "=================================================================\n",
            "Total params: 6,101,671\n",
            "Trainable params: 6,101,671\n",
            "Non-trainable params: 0\n",
            "_________________________________________________________________\n",
            "None\n"
          ],
          "name": "stdout"
        }
      ]
    },
    {
      "cell_type": "code",
      "metadata": {
        "colab": {
          "base_uri": "https://localhost:8080/"
        },
        "id": "UGPCR5fFgaQK",
        "outputId": "08224490-748f-4a99-ceb0-26f2794dd0ad"
      },
      "source": [
        "#Fit the model\n",
        "history = model.fit(predictors, label, epochs=100, verbose=1)"
      ],
      "execution_count": null,
      "outputs": [
        {
          "output_type": "stream",
          "text": [
            "Epoch 1/100\n",
            "484/484 [==============================] - 16s 13ms/step - loss: 6.9036 - accuracy: 0.0207\n",
            "Epoch 2/100\n",
            "484/484 [==============================] - 6s 13ms/step - loss: 6.5011 - accuracy: 0.0219\n",
            "Epoch 3/100\n",
            "484/484 [==============================] - 6s 13ms/step - loss: 6.4004 - accuracy: 0.0219\n",
            "Epoch 4/100\n",
            "484/484 [==============================] - 6s 13ms/step - loss: 6.2767 - accuracy: 0.0277\n",
            "Epoch 5/100\n",
            "484/484 [==============================] - 6s 13ms/step - loss: 6.1766 - accuracy: 0.0358\n",
            "Epoch 6/100\n",
            "484/484 [==============================] - 6s 13ms/step - loss: 6.0852 - accuracy: 0.0388\n",
            "Epoch 7/100\n",
            "484/484 [==============================] - 6s 13ms/step - loss: 6.0017 - accuracy: 0.0400\n",
            "Epoch 8/100\n",
            "484/484 [==============================] - 6s 13ms/step - loss: 5.9185 - accuracy: 0.0430\n",
            "Epoch 9/100\n",
            "484/484 [==============================] - 6s 13ms/step - loss: 5.8188 - accuracy: 0.0492\n",
            "Epoch 10/100\n",
            "484/484 [==============================] - 6s 13ms/step - loss: 5.7091 - accuracy: 0.0561\n",
            "Epoch 11/100\n",
            "484/484 [==============================] - 6s 13ms/step - loss: 5.5875 - accuracy: 0.0667\n",
            "Epoch 12/100\n",
            "484/484 [==============================] - 6s 13ms/step - loss: 5.4685 - accuracy: 0.0750\n",
            "Epoch 13/100\n",
            "484/484 [==============================] - 6s 13ms/step - loss: 5.3565 - accuracy: 0.0823\n",
            "Epoch 14/100\n",
            "484/484 [==============================] - 6s 13ms/step - loss: 5.2493 - accuracy: 0.0884\n",
            "Epoch 15/100\n",
            "484/484 [==============================] - 6s 13ms/step - loss: 5.1464 - accuracy: 0.0949\n",
            "Epoch 16/100\n",
            "484/484 [==============================] - 6s 13ms/step - loss: 5.0533 - accuracy: 0.1057\n",
            "Epoch 17/100\n",
            "484/484 [==============================] - 6s 13ms/step - loss: 4.9465 - accuracy: 0.1131\n",
            "Epoch 18/100\n",
            "484/484 [==============================] - 6s 13ms/step - loss: 4.8464 - accuracy: 0.1220\n",
            "Epoch 19/100\n",
            "484/484 [==============================] - 6s 12ms/step - loss: 4.7469 - accuracy: 0.1272\n",
            "Epoch 20/100\n",
            "484/484 [==============================] - 6s 13ms/step - loss: 4.6477 - accuracy: 0.1387\n",
            "Epoch 21/100\n",
            "484/484 [==============================] - 6s 13ms/step - loss: 4.5504 - accuracy: 0.1473\n",
            "Epoch 22/100\n",
            "484/484 [==============================] - 6s 13ms/step - loss: 4.4518 - accuracy: 0.1567\n",
            "Epoch 23/100\n",
            "484/484 [==============================] - 6s 13ms/step - loss: 4.3487 - accuracy: 0.1693\n",
            "Epoch 24/100\n",
            "484/484 [==============================] - 6s 13ms/step - loss: 4.2494 - accuracy: 0.1851\n",
            "Epoch 25/100\n",
            "484/484 [==============================] - 6s 13ms/step - loss: 4.1480 - accuracy: 0.1959\n",
            "Epoch 26/100\n",
            "484/484 [==============================] - 6s 13ms/step - loss: 4.0445 - accuracy: 0.2125\n",
            "Epoch 27/100\n",
            "484/484 [==============================] - 6s 13ms/step - loss: 3.9456 - accuracy: 0.2258\n",
            "Epoch 28/100\n",
            "484/484 [==============================] - 6s 13ms/step - loss: 3.8450 - accuracy: 0.2414\n",
            "Epoch 29/100\n",
            "484/484 [==============================] - 6s 13ms/step - loss: 3.7544 - accuracy: 0.2538\n",
            "Epoch 30/100\n",
            "484/484 [==============================] - 6s 13ms/step - loss: 3.6495 - accuracy: 0.2754\n",
            "Epoch 31/100\n",
            "484/484 [==============================] - 6s 12ms/step - loss: 3.5633 - accuracy: 0.2938\n",
            "Epoch 32/100\n",
            "484/484 [==============================] - 6s 12ms/step - loss: 3.4639 - accuracy: 0.3133\n",
            "Epoch 33/100\n",
            "484/484 [==============================] - 6s 13ms/step - loss: 3.3850 - accuracy: 0.3337\n",
            "Epoch 34/100\n",
            "484/484 [==============================] - 6s 13ms/step - loss: 3.2955 - accuracy: 0.3532\n",
            "Epoch 35/100\n",
            "484/484 [==============================] - 6s 13ms/step - loss: 3.2141 - accuracy: 0.3681\n",
            "Epoch 36/100\n",
            "484/484 [==============================] - 6s 13ms/step - loss: 3.1326 - accuracy: 0.3873\n",
            "Epoch 37/100\n",
            "484/484 [==============================] - 7s 13ms/step - loss: 3.0551 - accuracy: 0.4025\n",
            "Epoch 38/100\n",
            "484/484 [==============================] - 6s 13ms/step - loss: 2.9697 - accuracy: 0.4257\n",
            "Epoch 39/100\n",
            "484/484 [==============================] - 6s 13ms/step - loss: 2.9056 - accuracy: 0.4377\n",
            "Epoch 40/100\n",
            "484/484 [==============================] - 6s 13ms/step - loss: 2.8346 - accuracy: 0.4512\n",
            "Epoch 41/100\n",
            "484/484 [==============================] - 6s 12ms/step - loss: 2.7698 - accuracy: 0.4659\n",
            "Epoch 42/100\n",
            "484/484 [==============================] - 6s 13ms/step - loss: 2.7044 - accuracy: 0.4829\n",
            "Epoch 43/100\n",
            "484/484 [==============================] - 6s 13ms/step - loss: 2.6374 - accuracy: 0.4993\n",
            "Epoch 44/100\n",
            "484/484 [==============================] - 6s 13ms/step - loss: 2.5828 - accuracy: 0.5125\n",
            "Epoch 45/100\n",
            "484/484 [==============================] - 6s 13ms/step - loss: 2.5171 - accuracy: 0.5258\n",
            "Epoch 46/100\n",
            "484/484 [==============================] - 6s 12ms/step - loss: 2.4706 - accuracy: 0.5350\n",
            "Epoch 47/100\n",
            "484/484 [==============================] - 6s 12ms/step - loss: 2.4175 - accuracy: 0.5479\n",
            "Epoch 48/100\n",
            "484/484 [==============================] - 6s 12ms/step - loss: 2.3575 - accuracy: 0.5618\n",
            "Epoch 49/100\n",
            "484/484 [==============================] - 6s 12ms/step - loss: 2.3141 - accuracy: 0.5721\n",
            "Epoch 50/100\n",
            "484/484 [==============================] - 6s 12ms/step - loss: 2.2671 - accuracy: 0.5808\n",
            "Epoch 51/100\n",
            "484/484 [==============================] - 6s 12ms/step - loss: 2.2293 - accuracy: 0.5845\n",
            "Epoch 52/100\n",
            "484/484 [==============================] - 6s 12ms/step - loss: 2.1706 - accuracy: 0.6046\n",
            "Epoch 53/100\n",
            "484/484 [==============================] - 6s 12ms/step - loss: 2.1324 - accuracy: 0.6129\n",
            "Epoch 54/100\n",
            "484/484 [==============================] - 6s 12ms/step - loss: 2.0915 - accuracy: 0.6222\n",
            "Epoch 55/100\n",
            "484/484 [==============================] - 6s 13ms/step - loss: 2.0597 - accuracy: 0.6292\n",
            "Epoch 56/100\n",
            "484/484 [==============================] - 6s 12ms/step - loss: 2.0020 - accuracy: 0.6423\n",
            "Epoch 57/100\n",
            "484/484 [==============================] - 6s 12ms/step - loss: 1.9753 - accuracy: 0.6449\n",
            "Epoch 58/100\n",
            "484/484 [==============================] - 6s 12ms/step - loss: 1.9366 - accuracy: 0.6553\n",
            "Epoch 59/100\n",
            "484/484 [==============================] - 6s 12ms/step - loss: 1.9069 - accuracy: 0.6579\n",
            "Epoch 60/100\n",
            "484/484 [==============================] - 6s 12ms/step - loss: 1.8673 - accuracy: 0.6652\n",
            "Epoch 61/100\n",
            "484/484 [==============================] - 6s 12ms/step - loss: 1.8265 - accuracy: 0.6822\n",
            "Epoch 62/100\n",
            "484/484 [==============================] - 6s 12ms/step - loss: 1.7997 - accuracy: 0.6835\n",
            "Epoch 63/100\n",
            "484/484 [==============================] - 6s 12ms/step - loss: 1.7726 - accuracy: 0.6879\n",
            "Epoch 64/100\n",
            "484/484 [==============================] - 6s 12ms/step - loss: 1.7439 - accuracy: 0.6931\n",
            "Epoch 65/100\n",
            "484/484 [==============================] - 6s 12ms/step - loss: 1.7151 - accuracy: 0.6978\n",
            "Epoch 66/100\n",
            "484/484 [==============================] - 6s 12ms/step - loss: 1.6897 - accuracy: 0.7062\n",
            "Epoch 67/100\n",
            "484/484 [==============================] - 6s 12ms/step - loss: 1.6662 - accuracy: 0.7123\n",
            "Epoch 68/100\n",
            "484/484 [==============================] - 6s 13ms/step - loss: 1.6309 - accuracy: 0.7191\n",
            "Epoch 69/100\n",
            "484/484 [==============================] - 6s 12ms/step - loss: 1.6087 - accuracy: 0.7219\n",
            "Epoch 70/100\n",
            "484/484 [==============================] - 6s 12ms/step - loss: 1.5753 - accuracy: 0.7300\n",
            "Epoch 71/100\n",
            "484/484 [==============================] - 6s 12ms/step - loss: 1.5657 - accuracy: 0.7304\n",
            "Epoch 72/100\n",
            "484/484 [==============================] - 6s 12ms/step - loss: 1.5415 - accuracy: 0.7355\n",
            "Epoch 73/100\n",
            "484/484 [==============================] - 6s 12ms/step - loss: 1.5204 - accuracy: 0.7402\n",
            "Epoch 74/100\n",
            "484/484 [==============================] - 6s 12ms/step - loss: 1.4946 - accuracy: 0.7416\n",
            "Epoch 75/100\n",
            "484/484 [==============================] - 6s 12ms/step - loss: 1.4742 - accuracy: 0.7451\n",
            "Epoch 76/100\n",
            "484/484 [==============================] - 6s 12ms/step - loss: 1.4526 - accuracy: 0.7515\n",
            "Epoch 77/100\n",
            "484/484 [==============================] - 6s 12ms/step - loss: 1.4292 - accuracy: 0.7565\n",
            "Epoch 78/100\n",
            "484/484 [==============================] - 6s 12ms/step - loss: 1.4305 - accuracy: 0.7550\n",
            "Epoch 79/100\n",
            "484/484 [==============================] - 6s 12ms/step - loss: 1.4041 - accuracy: 0.7630\n",
            "Epoch 80/100\n",
            "484/484 [==============================] - 6s 12ms/step - loss: 1.3815 - accuracy: 0.7640\n",
            "Epoch 81/100\n",
            "484/484 [==============================] - 6s 12ms/step - loss: 1.3728 - accuracy: 0.7666\n",
            "Epoch 82/100\n",
            "484/484 [==============================] - 6s 12ms/step - loss: 1.3578 - accuracy: 0.7676\n",
            "Epoch 83/100\n",
            "484/484 [==============================] - 6s 13ms/step - loss: 1.3328 - accuracy: 0.7732\n",
            "Epoch 84/100\n",
            "484/484 [==============================] - 6s 13ms/step - loss: 1.3313 - accuracy: 0.7734\n",
            "Epoch 85/100\n",
            "484/484 [==============================] - 7s 14ms/step - loss: 1.3073 - accuracy: 0.7773\n",
            "Epoch 86/100\n",
            "484/484 [==============================] - 6s 13ms/step - loss: 1.2827 - accuracy: 0.7850\n",
            "Epoch 87/100\n",
            "484/484 [==============================] - 6s 13ms/step - loss: 1.2693 - accuracy: 0.7850\n",
            "Epoch 88/100\n",
            "484/484 [==============================] - 6s 13ms/step - loss: 1.2571 - accuracy: 0.7886\n",
            "Epoch 89/100\n",
            "484/484 [==============================] - 6s 13ms/step - loss: 1.2590 - accuracy: 0.7853\n",
            "Epoch 90/100\n",
            "484/484 [==============================] - 6s 13ms/step - loss: 1.2368 - accuracy: 0.7916\n",
            "Epoch 91/100\n",
            "484/484 [==============================] - 6s 12ms/step - loss: 1.2251 - accuracy: 0.7927\n",
            "Epoch 92/100\n",
            "484/484 [==============================] - 6s 12ms/step - loss: 1.2137 - accuracy: 0.7936\n",
            "Epoch 93/100\n",
            "484/484 [==============================] - 6s 12ms/step - loss: 1.2003 - accuracy: 0.7983\n",
            "Epoch 94/100\n",
            "484/484 [==============================] - 6s 12ms/step - loss: 1.1962 - accuracy: 0.7989\n",
            "Epoch 95/100\n",
            "484/484 [==============================] - 6s 12ms/step - loss: 1.1982 - accuracy: 0.7938\n",
            "Epoch 96/100\n",
            "484/484 [==============================] - 6s 12ms/step - loss: 1.1810 - accuracy: 0.7991\n",
            "Epoch 97/100\n",
            "484/484 [==============================] - 6s 12ms/step - loss: 1.1618 - accuracy: 0.8009\n",
            "Epoch 98/100\n",
            "484/484 [==============================] - 6s 12ms/step - loss: 1.1522 - accuracy: 0.8013\n",
            "Epoch 99/100\n",
            "484/484 [==============================] - 6s 12ms/step - loss: 1.1420 - accuracy: 0.8054\n",
            "Epoch 100/100\n",
            "484/484 [==============================] - 6s 12ms/step - loss: 1.1356 - accuracy: 0.8047\n"
          ],
          "name": "stdout"
        }
      ]
    },
    {
      "cell_type": "code",
      "metadata": {
        "id": "NvHjaGBthkfa"
      },
      "source": [
        "#Plot the dot"
      ],
      "execution_count": null,
      "outputs": []
    },
    {
      "cell_type": "code",
      "metadata": {
        "colab": {
          "base_uri": "https://localhost:8080/",
          "height": 545
        },
        "id": "8N8qHsdPhr2u",
        "outputId": "c9179bc5-f91a-484e-cf0d-a7c066bcff09"
      },
      "source": [
        "import matplotlib.pyplot  as plt\n",
        "acc = history.history['accuracy']\n",
        "loss = history.history['loss']\n",
        "\n",
        "epochs = range(len(acc))\n",
        "\n",
        "plt.plot(epoch, acc, 'b', label=\"Training accuracy\")\n",
        "plt.title(\"Training Accuracy\")\n",
        "\n",
        "plt.figure()\n",
        "\n",
        "plt.plot(epochs, loss, 'b', label=\"Training loss\")\n",
        "plt.title('Training Loss')\n",
        "plt.legend()\n",
        "\n",
        "plt.show()"
      ],
      "execution_count": null,
      "outputs": [
        {
          "output_type": "display_data",
          "data": {
            "image/png": "[encoded data removed]",
            "text/plain": [
              "<Figure size 432x288 with 1 Axes>"
            ]
          },
          "metadata": {
            "tags": [],
            "needs_background": "light"
          }
        },
        {
          "output_type": "display_data",
          "data": {
            "image/png": "[encoded data removed]",
            "text/plain": [
              "<Figure size 432x288 with 1 Axes>"
            ]
          },
          "metadata": {
            "tags": [],
            "needs_background": "light"
          }
        }
      ]
    },
    {
      "cell_type": "code",
      "metadata": {
        "colab": {
          "base_uri": "https://localhost:8080/"
        },
        "id": "1GOWLBhRiZik",
        "outputId": "f6e26bf4-ef06-4e1f-fabf-e71c39ea1fe9"
      },
      "source": [
        "initial_text = \"It is over. I have the highground\"\n",
        "next_words=10\n",
        "\n",
        "for _ in range(next_words):\n",
        "  token_list = tokenizer.texts_to_sequences([initial_text])[0]\n",
        "  token_list = pad_sequences([token_list], maxlen=max_sequence_len-1, padding='pre')\n",
        "  predicted = model.predict_classes(token_list, verbose=0)\n",
        "  output_word=\"\"\n",
        "  for word, index in tokenizer.word_index.items():\n",
        "    if index == predicted:\n",
        "      output_word = word\n",
        "      break\n",
        "  initial_text += \" \"+output_word\n",
        "print(initial_text)      "
      ],
      "execution_count": null,
      "outputs": [
        {
          "output_type": "stream",
          "text": [
            "/usr/local/lib/python3.7/dist-packages/tensorflow/python/keras/engine/sequential.py:455: UserWarning: `model.predict_classes()` is deprecated and will be removed after 2021-01-01. Please use instead:* `np.argmax(model.predict(x), axis=-1)`,   if your model does multi-class classification   (e.g. if it uses a `softmax` last-layer activation).* `(model.predict(x) > 0.5).astype(\"int32\")`,   if your model does binary classification   (e.g. if it uses a `sigmoid` last-layer activation).\n",
            "  warnings.warn('`model.predict_classes()` is deprecated and '\n"
          ],
          "name": "stderr"
        },
        {
          "output_type": "stream",
          "text": [
            "It is over. I have the highground darling buds of burn light quite used burn can reap\n"
          ],
          "name": "stdout"
        }
      ]
    }
  ]
}