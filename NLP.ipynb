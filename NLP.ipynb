{
  "nbformat": 4,
  "nbformat_minor": 0,
  "metadata": {
    "colab": {
      "name": "NLP.ipynb",
      "provenance": [],
      "authorship_tag": "ABX9TyPBY9rAqjyoW7JAUCO2GIV5",
      "include_colab_link": true
    },
    "kernelspec": {
      "name": "python3",
      "display_name": "Python 3"
    },
    "language_info": {
      "name": "python"
    }
  },
  "cells": [
    {
      "cell_type": "markdown",
      "metadata": {
        "id": "view-in-github",
        "colab_type": "text"
      },
      "source": [
        "<a href=\"https://colab.research.google.com/github/FajarKKP/CodingPractice/blob/main/NLP.ipynb\" target=\"_parent\"><img src=\"https://colab.research.google.com/assets/colab-badge.svg\" alt=\"Open In Colab\"/></a>"
      ]
    },
    {
      "cell_type": "code",
      "metadata": {
        "id": "dppMyMC4DSEE"
      },
      "source": [
        "import tensorflow as tf\n",
        "from tensorflow import keras\n",
        "from tensorflow.keras.preprocessing.text import Tokenizer\n",
        "from tensorflow.keras.preprocessing.sequence import pad_sequences\n",
        "\n",
        "sentences = [\n",
        "             'I love my dog',\n",
        "             'I love my cat',\n",
        "             'You love my dog',\n",
        "             'Do you think it is amazing?'\n",
        "]\n"
      ],
      "execution_count": 2,
      "outputs": []
    },
    {
      "cell_type": "code",
      "metadata": {
        "id": "WgtKdM4NnKwh"
      },
      "source": [
        "# Setting the tokenizer\n",
        "\n",
        "# num_words to determine which word will be chosen (ex: because 100, then the first 100 words will be selected). oov_token to label untokenize word in test set\n",
        "tokenizer = Tokenizer(num_words=100, oov_token='<OOV>') \n",
        "tokenizer.fit_on_texts(sentences)\n",
        "word_index = tokenizer.word_index\n",
        "\n",
        "sequences = tokenizer.texts_to_sequences(sentences)"
      ],
      "execution_count": 3,
      "outputs": []
    },
    {
      "cell_type": "code",
      "metadata": {
        "colab": {
          "base_uri": "https://localhost:8080/"
        },
        "id": "wTmV6VLSoGEv",
        "outputId": "0091babe-8e72-4979-ac6a-0144fc339e1c"
      },
      "source": [
        "# Add padding\n",
        "padded = pad_sequences(sequences, maxlen=5)\n",
        "print(\"\\nWord Index = \" , word_index)\n",
        "print(\"\\nSequences = \" , sequences)\n",
        "print(\"\\nPadded Sequences:\")\n",
        "print(padded)"
      ],
      "execution_count": 4,
      "outputs": [
        {
          "output_type": "stream",
          "text": [
            "\n",
            "Word Index =  {'<OOV>': 1, 'love': 2, 'my': 3, 'i': 4, 'dog': 5, 'you': 6, 'cat': 7, 'do': 8, 'think': 9, 'it': 10, 'is': 11, 'amazing': 12}\n",
            "\n",
            "Sequences =  [[4, 2, 3, 5], [4, 2, 3, 7], [6, 2, 3, 5], [8, 6, 9, 10, 11, 12]]\n",
            "\n",
            "Padded Sequences:\n",
            "[[ 0  4  2  3  5]\n",
            " [ 0  4  2  3  7]\n",
            " [ 0  6  2  3  5]\n",
            " [ 6  9 10 11 12]]\n"
          ],
          "name": "stdout"
        }
      ]
    },
    {
      "cell_type": "code",
      "metadata": {
        "colab": {
          "base_uri": "https://localhost:8080/"
        },
        "id": "YbxaoBIeoRc_",
        "outputId": "029ee245-37af-4d7e-addb-972c815d670f"
      },
      "source": [
        "# Testing with new sentence\n",
        "test_data = [\n",
        "             'I really love my cat',\n",
        "             'my dog hates me'\n",
        "]\n",
        "\n",
        "test_seq = tokenizer.texts_to_sequences(test_data)\n",
        "print('\\nTest Sequence = ', test_seq)\n",
        "\n",
        "padded = pad_sequences(test_seq, maxlen=10)\n",
        "print(\"\\nPadded Test Sequence: \")\n",
        "print(padded)"
      ],
      "execution_count": 5,
      "outputs": [
        {
          "output_type": "stream",
          "text": [
            "\n",
            "Test Sequence =  [[4, 1, 2, 3, 7], [3, 5, 1, 1]]\n",
            "\n",
            "Padded Test Sequence: \n",
            "[[0 0 0 0 0 4 1 2 3 7]\n",
            " [0 0 0 0 0 0 3 5 1 1]]\n"
          ],
          "name": "stdout"
        }
      ]
    }
  ]
}