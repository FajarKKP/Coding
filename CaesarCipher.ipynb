{
  "nbformat": 4,
  "nbformat_minor": 0,
  "metadata": {
    "colab": {
      "name": "CaesarCipher.ipynb",
      "provenance": [],
      "collapsed_sections": [],
      "authorship_tag": "ABX9TyOrx188qf9M+RIAbV+9cbKP",
      "include_colab_link": true
    },
    "kernelspec": {
      "name": "python3",
      "display_name": "Python 3"
    }
  },
  "cells": [
    {
      "cell_type": "markdown",
      "metadata": {
        "id": "view-in-github",
        "colab_type": "text"
      },
      "source": [
        "<a href=\"https://colab.research.google.com/github/FajarKKP/CodingPractice/blob/main/CaesarCipher.ipynb\" target=\"_parent\"><img src=\"https://colab.research.google.com/assets/colab-badge.svg\" alt=\"Open In Colab\"/></a>"
      ]
    },
    {
      "cell_type": "markdown",
      "metadata": {
        "id": "Jq6oSIxe6-bJ"
      },
      "source": [
        "Encrypt"
      ]
    },
    {
      "cell_type": "code",
      "metadata": {
        "colab": {
          "base_uri": "https://localhost:8080/"
        },
        "id": "CNiAcY3H68b9",
        "outputId": "88218ba9-595a-4928-8dc6-d8989bf9a556"
      },
      "source": [
        "# credits to amazing.python for the source code\n",
        "\n",
        "def encrypt (text, num):\n",
        "  text = text.lower()\n",
        "  final = \" \"\n",
        "  for i in range(len(text)):\n",
        "    c = text[i]\n",
        "    if c.islower():\n",
        "      final += chr((ord(c) + num - 97)% 26 + 97)\n",
        "    else:\n",
        "      final += c\n",
        "  return final\n",
        "\n",
        "print(encrypt(\"Hello world\",2))"
      ],
      "execution_count": null,
      "outputs": [
        {
          "output_type": "stream",
          "text": [
            " jgnnq yqtnf\n"
          ],
          "name": "stdout"
        }
      ]
    },
    {
      "cell_type": "markdown",
      "metadata": {
        "id": "bcFeq8C37FYX"
      },
      "source": [
        "Decrypt"
      ]
    },
    {
      "cell_type": "code",
      "metadata": {
        "colab": {
          "base_uri": "https://localhost:8080/"
        },
        "id": "ZJFgpFv17SNc",
        "outputId": "0c2674db-dfa8-4392-e887-90ae36c9c244"
      },
      "source": [
        "def decrypt (text, num):\n",
        "  text = text.lower()\n",
        "  final = \" \"\n",
        "  for i in range(len(text)):\n",
        "    c = text[i]\n",
        "    if c.islower():\n",
        "      final += chr((ord(c) - num - 97)% 26 +97)\n",
        "    else:\n",
        "      final += c\n",
        "  return final\n",
        "\n",
        "print(decrypt(\"jgnnq yqtnf\",2))"
      ],
      "execution_count": null,
      "outputs": [
        {
          "output_type": "stream",
          "text": [
            " hello world\n"
          ],
          "name": "stdout"
        }
      ]
    },
    {
      "cell_type": "markdown",
      "metadata": {
        "id": "J69qPeGg957Z"
      },
      "source": [
        "Encrypt and decrypt"
      ]
    },
    {
      "cell_type": "code",
      "metadata": {
        "colab": {
          "base_uri": "https://localhost:8080/"
        },
        "id": "E7kEmhAO-CKy",
        "outputId": "8a86dadd-d39e-4a84-8b11-c300ed3b2355"
      },
      "source": [
        "def encrypt (text, num):\n",
        "  text = text.lower()\n",
        "  enc_final = \" \"\n",
        "  for i in range(len(text)):\n",
        "    c = text[i]\n",
        "    if c.islower():\n",
        "      enc_final += chr((ord(c) + num - 97)% 26 + 97)\n",
        "    else:\n",
        "      enc_final += c\n",
        "  return enc_final\n",
        "\n",
        "def decrypt (text, num):\n",
        "  text = text.lower()\n",
        "  dec_final = \" \"\n",
        "  for i in range(len(text)):\n",
        "    c = text[i]\n",
        "    if c.islower():\n",
        "      dec_final += chr((ord(c) - num - 97)% 26 +97)\n",
        "    else:\n",
        "      dec_final += c\n",
        "  return dec_final\n",
        "\n",
        "def encdec(text, num):\n",
        "  return decrypt(encrypt(text,num),num)\n",
        "\n",
        "\n",
        "print(\"Text: \")\n",
        "text = str(input())\n",
        "print(\"Number: \")\n",
        "num = int(input())\n",
        "\n",
        "print(\"Encrypted text: \")\n",
        "print(encrypt(text, num))\n",
        "print(\"After decrypt: \")\n",
        "print(encdec(text, num))"
      ],
      "execution_count": null,
      "outputs": [
        {
          "output_type": "stream",
          "text": [
            "Text: \n",
            "Hello world\n",
            "Number: \n",
            "4\n",
            "Encrypted text: \n",
            " lipps asvph\n",
            "After decrypt: \n",
            "  hello world\n"
          ],
          "name": "stdout"
        }
      ]
    }
  ]
}