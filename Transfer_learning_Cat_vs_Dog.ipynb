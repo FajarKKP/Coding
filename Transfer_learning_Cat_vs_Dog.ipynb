{
  "nbformat": 4,
  "nbformat_minor": 0,
  "metadata": {
    "colab": {
      "name": "Transfer_learning_Cat_vs_Dog.ipynb",
      "provenance": [],
      "authorship_tag": "ABX9TyNBzoHe+TSALnC7xO1lyvbA",
      "include_colab_link": true
    },
    "kernelspec": {
      "name": "python3",
      "display_name": "Python 3"
    },
    "language_info": {
      "name": "python"
    }
  },
  "cells": [
    {
      "cell_type": "markdown",
      "metadata": {
        "id": "view-in-github",
        "colab_type": "text"
      },
      "source": [
        "<a href=\"https://colab.research.google.com/github/FajarKKP/CodingPractice/blob/main/Transfer_learning_Cat_vs_Dog.ipynb\" target=\"_parent\"><img src=\"https://colab.research.google.com/assets/colab-badge.svg\" alt=\"Open In Colab\"/></a>"
      ]
    },
    {
      "cell_type": "code",
      "metadata": {
        "colab": {
          "base_uri": "https://localhost:8080/"
        },
        "id": "8UMWKHjQPXT3",
        "outputId": "2eb5251e-fc6a-4ef3-bca1-d07c5655e522"
      },
      "source": [
        "import os\n",
        "import tensorflow as tf\n",
        "from tensorflow.keras import layers\n",
        "from tensorflow.keras import Model\n",
        "!wget --no-check-certificate \\\n",
        "    https://storage.googleapis.com/mledu-datasets/inception_v3_weights_tf_dim_ordering_tf_kernels_notop.h5 \\\n",
        "    -O /tmp/inception_v3_weights_tf_dim_ordering_tf_kernels_notop.h5\n",
        "\n",
        "from tensorflow.keras.applications.inception_v3 import InceptionV3\n",
        "\n",
        "local_weights_file = '/tmp/inception_v3_weights_tf_dim_ordering_tf_kernels_notop.h5'\n",
        "\n",
        "pre_trained_model = InceptionV3(input_shape = (150,150,3),\n",
        "                                include_top=False,\n",
        "                                weights = None\n",
        "                                )\n",
        "\n",
        "pre_trained_model.load_weights(local_weights_file)\n",
        "\n",
        "for layer in pre_trained_model.layers:\n",
        "  layer.trainable = False\n",
        "\n",
        "last_layer = pre_trained_model.get_layer('mixed7')\n",
        "print('last layer output shape: ', last_layer.output_shape)\n",
        "last_output = last_layer.output"
      ],
      "execution_count": 1,
      "outputs": [
        {
          "output_type": "stream",
          "text": [
            "--2021-05-08 09:48:28--  https://storage.googleapis.com/mledu-datasets/inception_v3_weights_tf_dim_ordering_tf_kernels_notop.h5\n",
            "Resolving storage.googleapis.com (storage.googleapis.com)... 74.125.20.128, 74.125.135.128, 74.125.142.128, ...\n",
            "Connecting to storage.googleapis.com (storage.googleapis.com)|74.125.20.128|:443... connected.\n",
            "HTTP request sent, awaiting response... 200 OK\n",
            "Length: 87910968 (84M) [application/x-hdf]\n",
            "Saving to: ‘/tmp/inception_v3_weights_tf_dim_ordering_tf_kernels_notop.h5’\n",
            "\n",
            "/tmp/inception_v3_w 100%[===================>]  83.84M   102MB/s    in 0.8s    \n",
            "\n",
            "2021-05-08 09:48:29 (102 MB/s) - ‘/tmp/inception_v3_weights_tf_dim_ordering_tf_kernels_notop.h5’ saved [87910968/87910968]\n",
            "\n",
            "last layer output shape:  (None, 7, 7, 768)\n"
          ],
          "name": "stdout"
        }
      ]
    },
    {
      "cell_type": "code",
      "metadata": {
        "id": "0Nmh5v0WRM7L"
      },
      "source": [
        "# Make the model\n",
        "from tensorflow.keras.optimizers import RMSprop\n",
        "#Because we used a trained set, we can now work to our model\n",
        "x = layers.Flatten()(last_output)\n",
        "x = layers.Dense(1024, activation=tf.nn.relu)(x)\n",
        "x = layers.Dropout(0.2)(x)   #Using the droput. In this case, 20% of the neuron will be dropped               \n",
        "x = layers.Dense  (1, activation=tf.nn.sigmoid)(x)  \n",
        "model = Model( pre_trained_model.input, x) \n",
        "\n",
        "model.compile(optimizer=RMSprop(lr=0.0001), loss='binary_crossentropy', metrics = ['accuracy'])"
      ],
      "execution_count": 2,
      "outputs": []
    },
    {
      "cell_type": "code",
      "metadata": {
        "id": "aj0JRvxifWGN"
      },
      "source": [
        "# Now, we are processing the ImageDataGenerator"
      ],
      "execution_count": null,
      "outputs": []
    },
    {
      "cell_type": "code",
      "metadata": {
        "colab": {
          "base_uri": "https://localhost:8080/"
        },
        "id": "d23qw-DFfBBP",
        "outputId": "c980eb3b-aaab-4cb2-8d54-abb073c52111"
      },
      "source": [
        "#Download the cats and dogs tempelate\n",
        "!wget --no-check-certificate \\\n",
        "        https://storage.googleapis.com/mledu-datasets/cats_and_dogs_filtered.zip \\\n",
        "       -O /tmp/cats_and_dogs_filtered.zip"
      ],
      "execution_count": 3,
      "outputs": [
        {
          "output_type": "stream",
          "text": [
            "--2021-05-08 09:48:38--  https://storage.googleapis.com/mledu-datasets/cats_and_dogs_filtered.zip\n",
            "Resolving storage.googleapis.com (storage.googleapis.com)... 74.125.20.128, 74.125.135.128, 74.125.142.128, ...\n",
            "Connecting to storage.googleapis.com (storage.googleapis.com)|74.125.20.128|:443... connected.\n",
            "HTTP request sent, awaiting response... 200 OK\n",
            "Length: 68606236 (65M) [application/zip]\n",
            "Saving to: ‘/tmp/cats_and_dogs_filtered.zip’\n",
            "\n",
            "/tmp/cats_and_dogs_ 100%[===================>]  65.43M  77.9MB/s    in 0.8s    \n",
            "\n",
            "2021-05-08 09:48:39 (77.9 MB/s) - ‘/tmp/cats_and_dogs_filtered.zip’ saved [68606236/68606236]\n",
            "\n"
          ],
          "name": "stdout"
        }
      ]
    },
    {
      "cell_type": "code",
      "metadata": {
        "colab": {
          "base_uri": "https://localhost:8080/"
        },
        "id": "sTR9N_9mfagS",
        "outputId": "4df5c94e-27ac-48ea-8a9a-0cc456cc5ac2"
      },
      "source": [
        "from tensorflow.keras.preprocessing.image import ImageDataGenerator\n",
        "import os\n",
        "import zipfile\n",
        "\n",
        "local_zip = '//tmp/cats_and_dogs_filtered.zip'\n",
        "zip_ref = zipfile.ZipFile(local_zip,'r')\n",
        "\n",
        "zip_ref.extractall('/tmp')\n",
        "zip_ref.close()\n",
        "\n",
        "base_dir = '/tmp/cats_and_dogs_filtered'\n",
        "train_dir = os.path.join(base_dir,'train')\n",
        "validation_dir = os.path.join(base_dir,'validation')\n",
        "\n",
        "#Set their directory\n",
        "train_cats_dir = os.path.join(train_dir, 'cats') # Directory with our training cat pictures\n",
        "train_dogs_dir = os.path.join(train_dir, 'dogs') # Directory with our training dog pictures\n",
        "validation_cats_dir = os.path.join(validation_dir, 'cats') # Directory with our validation cat pictures\n",
        "validation_dogs_dir = os.path.join(validation_dir, 'dogs')# Directory with our validation dog pictures\n",
        "\n",
        "train_cat_fnames = os.listdir(train_cats_dir)\n",
        "train_dog_fnames = os.listdir(train_dogs_dir)\n",
        "\n",
        "#Add Data augmentation to our training data\n",
        "train_datagen = ImageDataGenerator(\n",
        "    rescale=1/255,\n",
        "    rotation_range = 40,\n",
        "    width_shift_range = 0.2,\n",
        "    height_shift_range = 0.2,\n",
        "    shear_range = 0.2,\n",
        "    zoom_range = 0.2,\n",
        "    horizontal_flip = True\n",
        ")\n",
        "\n",
        "test_datagen = ImageDataGenerator(rescale=1/255)\n",
        "\n",
        "#Flow our our datagen\n",
        "train_generator = train_datagen.flow_from_directory(\n",
        "    train_dir,\n",
        "    batch_size=20,\n",
        "    class_mode='binary',\n",
        "    target_size = (150,150)\n",
        ")\n",
        "\n",
        "validation_generator = test_datagen.flow_from_directory(\n",
        "    validation_dir,\n",
        "    batch_size=20,\n",
        "    class_mode = 'binary',\n",
        "    target_size = (150,150)\n",
        ")"
      ],
      "execution_count": 4,
      "outputs": [
        {
          "output_type": "stream",
          "text": [
            "Found 2000 images belonging to 2 classes.\n",
            "Found 1000 images belonging to 2 classes.\n"
          ],
          "name": "stdout"
        }
      ]
    },
    {
      "cell_type": "code",
      "metadata": {
        "colab": {
          "base_uri": "https://localhost:8080/"
        },
        "id": "1Fu1bQwoiCov",
        "outputId": "ccffd08a-7d06-493e-9c5e-b193806990a8"
      },
      "source": [
        "history = model.fit(\n",
        "    train_generator,\n",
        "    validation_data = validation_generator,\n",
        "    steps_per_epoch = 100,\n",
        "    epochs = 20,\n",
        "    validation_steps = 50,\n",
        "    verbose = 2\n",
        ")"
      ],
      "execution_count": 6,
      "outputs": [
        {
          "output_type": "stream",
          "text": [
            "Epoch 1/20\n",
            "100/100 - 141s - loss: 0.3931 - accuracy: 0.8580 - val_loss: 0.1088 - val_accuracy: 0.9550\n",
            "Epoch 2/20\n",
            "100/100 - 136s - loss: 0.2038 - accuracy: 0.9160 - val_loss: 0.1182 - val_accuracy: 0.9560\n",
            "Epoch 3/20\n",
            "100/100 - 136s - loss: 0.2160 - accuracy: 0.9195 - val_loss: 0.1536 - val_accuracy: 0.9410\n",
            "Epoch 4/20\n",
            "100/100 - 137s - loss: 0.2008 - accuracy: 0.9325 - val_loss: 0.1344 - val_accuracy: 0.9490\n",
            "Epoch 5/20\n",
            "100/100 - 137s - loss: 0.1835 - accuracy: 0.9335 - val_loss: 0.1956 - val_accuracy: 0.9290\n",
            "Epoch 6/20\n",
            "100/100 - 137s - loss: 0.1859 - accuracy: 0.9330 - val_loss: 0.1006 - val_accuracy: 0.9660\n",
            "Epoch 7/20\n",
            "100/100 - 137s - loss: 0.1795 - accuracy: 0.9370 - val_loss: 0.1131 - val_accuracy: 0.9660\n",
            "Epoch 8/20\n",
            "100/100 - 137s - loss: 0.1734 - accuracy: 0.9450 - val_loss: 0.1247 - val_accuracy: 0.9610\n",
            "Epoch 9/20\n",
            "100/100 - 137s - loss: 0.1765 - accuracy: 0.9395 - val_loss: 0.1001 - val_accuracy: 0.9720\n",
            "Epoch 10/20\n",
            "100/100 - 137s - loss: 0.1570 - accuracy: 0.9485 - val_loss: 0.1757 - val_accuracy: 0.9520\n",
            "Epoch 11/20\n",
            "100/100 - 137s - loss: 0.1648 - accuracy: 0.9390 - val_loss: 0.0868 - val_accuracy: 0.9730\n",
            "Epoch 12/20\n",
            "100/100 - 137s - loss: 0.1412 - accuracy: 0.9475 - val_loss: 0.1087 - val_accuracy: 0.9700\n",
            "Epoch 13/20\n",
            "100/100 - 137s - loss: 0.1417 - accuracy: 0.9475 - val_loss: 0.1851 - val_accuracy: 0.9430\n",
            "Epoch 14/20\n",
            "100/100 - 137s - loss: 0.1708 - accuracy: 0.9435 - val_loss: 0.1934 - val_accuracy: 0.9460\n",
            "Epoch 15/20\n",
            "100/100 - 137s - loss: 0.1521 - accuracy: 0.9470 - val_loss: 0.1217 - val_accuracy: 0.9660\n",
            "Epoch 16/20\n",
            "100/100 - 137s - loss: 0.1165 - accuracy: 0.9590 - val_loss: 0.1572 - val_accuracy: 0.9630\n",
            "Epoch 17/20\n",
            "100/100 - 136s - loss: 0.1442 - accuracy: 0.9545 - val_loss: 0.1144 - val_accuracy: 0.9730\n",
            "Epoch 18/20\n",
            "100/100 - 137s - loss: 0.1422 - accuracy: 0.9525 - val_loss: 0.1118 - val_accuracy: 0.9690\n",
            "Epoch 19/20\n",
            "100/100 - 136s - loss: 0.1361 - accuracy: 0.9575 - val_loss: 0.1226 - val_accuracy: 0.9740\n",
            "Epoch 20/20\n",
            "100/100 - 136s - loss: 0.1270 - accuracy: 0.9575 - val_loss: 0.1276 - val_accuracy: 0.9660\n"
          ],
          "name": "stdout"
        }
      ]
    },
    {
      "cell_type": "code",
      "metadata": {
        "id": "TzsLYvVtYqsY"
      },
      "source": [
        "# Now draw the plot"
      ],
      "execution_count": null,
      "outputs": []
    },
    {
      "cell_type": "code",
      "metadata": {
        "colab": {
          "base_uri": "https://localhost:8080/",
          "height": 298
        },
        "id": "bEwf-0k0Ytsn",
        "outputId": "d2e33cf9-fb1b-4cfd-8ce7-034e9ddaee9b"
      },
      "source": [
        "import matplotlib.pyplot as plt\n",
        "acc = history.history['accuracy']\n",
        "val_acc = history.history['val_accuracy']\n",
        "loss = history.history['loss']\n",
        "val_loss = history.history['val_loss']\n",
        "\n",
        "epochs = range(len(acc))\n",
        "\n",
        "plt.plot(epochs, acc,'r', label='Training Accuracy')\n",
        "plt.plot(epochs,val_acc,'b',label='Validation Accuracy')\n",
        "plt.title('Training and Validation Accuracy')\n",
        "plt.legend(loc=0)\n",
        "plt.figure()\n",
        "\n",
        "plt.show()"
      ],
      "execution_count": 7,
      "outputs": [
        {
          "output_type": "display_data",
          "data": {
            "image/png": "[encoded data removed]",
            "text/plain": [
              "<Figure size 432x288 with 1 Axes>"
            ]
          },
          "metadata": {
            "tags": [],
            "needs_background": "light"
          }
        },
        {
          "output_type": "display_data",
          "data": {
            "text/plain": [
              "<Figure size 432x288 with 0 Axes>"
            ]
          },
          "metadata": {
            "tags": []
          }
        }
      ]
    }
  ]
}